{
 "metadata": {
  "language_info": {
   "codemirror_mode": {
    "name": "ipython",
    "version": 3
   },
   "file_extension": ".py",
   "mimetype": "text/x-python",
   "name": "python",
   "nbconvert_exporter": "python",
   "pygments_lexer": "ipython3",
   "version": "3.9.2"
  },
  "orig_nbformat": 2,
  "kernelspec": {
   "name": "python392jvsc74a57bd0e7370f93d1d0cde622a1f8e1c04877d8463912d04d973331ad4851f04de6915a",
   "display_name": "Python 3.9.2 64-bit"
  },
  "metadata": {
   "interpreter": {
    "hash": "e7370f93d1d0cde622a1f8e1c04877d8463912d04d973331ad4851f04de6915a"
   }
  }
 },
 "nbformat": 4,
 "nbformat_minor": 2,
 "cells": [
  {
   "cell_type": "code",
   "execution_count": 11,
   "metadata": {},
   "outputs": [],
   "source": [
    "file1='test1.csv'\n",
    "file2='test2.csv'"
   ]
  },
  {
   "cell_type": "code",
   "execution_count": 12,
   "metadata": {},
   "outputs": [],
   "source": [
    "import pandas as pd \n",
    "import numpy as np \n",
    "import csv \n"
   ]
  },
  {
   "cell_type": "code",
   "execution_count": 13,
   "metadata": {},
   "outputs": [],
   "source": [
    "df1=pd.read_csv(file1)\n",
    "df2=pd.read_csv(file2)"
   ]
  },
  {
   "cell_type": "code",
   "execution_count": 14,
   "metadata": {},
   "outputs": [],
   "source": [
    "combo=pd.concat([df1,df2])"
   ]
  },
  {
   "cell_type": "code",
   "execution_count": 15,
   "metadata": {},
   "outputs": [
    {
     "output_type": "execute_result",
     "data": {
      "text/plain": [
       "       frame.number                           frame.time            eth.src  \\\n",
       "70116         70117  Mar 23, 2021 19:31:37.105789000 IST  00:0f:b7:12:01:58   \n",
       "70117         70118  Mar 23, 2021 19:31:37.107072000 IST  00:0f:b7:12:01:58   \n",
       "70118         70119  Mar 23, 2021 19:31:37.107100000 IST  46:2d:59:d1:10:59   \n",
       "70119         70120  Mar 23, 2021 19:31:37.108054000 IST  00:0f:b7:12:01:58   \n",
       "70120         70121  Mar 23, 2021 19:31:37.107649000 IST  46:2d:59:d1:10:59   \n",
       "70121         70122  Mar 23, 2021 19:31:37.108987000 IST  00:0f:b7:12:01:58   \n",
       "70122         70123  Mar 23, 2021 19:31:37.109160000 IST  00:0f:b7:12:01:58   \n",
       "70123         70124  Mar 23, 2021 19:31:37.109516000 IST  26:9e:14:b2:9c:32   \n",
       "70124         70125  Mar 23, 2021 19:31:37.110219000 IST  26:9e:14:b2:9c:32   \n",
       "\n",
       "                 eth.dst          ip.src          ip.dst  ip.proto  \\\n",
       "70116  00:00:5e:00:01:01    72.15.134.55     72.15.135.5        17   \n",
       "70117  00:00:5e:00:01:01    72.15.134.61  213.248.90.116        17   \n",
       "70118  00:0f:b7:12:01:58  163.172.196.99    72.15.134.16        17   \n",
       "70119  00:00:5e:00:01:01    72.15.134.16  163.172.196.99        17   \n",
       "70120  00:0f:b7:12:01:58  163.172.196.99    72.15.134.16        17   \n",
       "70121  00:00:5e:00:01:01    72.15.134.16   185.32.78.126        17   \n",
       "70122  00:00:5e:00:01:01    72.15.134.16     72.15.135.5        17   \n",
       "70123  00:0f:b7:12:01:58     72.15.135.5    72.15.134.16        17   \n",
       "70124  00:0f:b7:12:01:58   213.248.91.28    72.15.134.61        17   \n",
       "\n",
       "                                             sip.Call-ID  \n",
       "70116  9d21f59-2cbdb637-132-7fb3dbea3658-1b860f48-13c...  \n",
       "70117  288773732-3825496893-225503@ffm-sbc-1a.mydomai...  \n",
       "70118  1baea806-3cf9c517-131-7fb3dbea90d0-1b860f48-13...  \n",
       "70119  1baea806-3cf9c517-131-7fb3dbea90d0-1b860f48-13...  \n",
       "70120  18630235-57b555e3-132-7fb3dc4a0770-1b860f48-13...  \n",
       "70121  3d2b288e-5f55eeff-132-7fb3dbea1228-1b860f48-13...  \n",
       "70122  42b69a5b-49efd948-132-7fb3dbea0618-1b860f48-13...  \n",
       "70123  42b69a5b-49efd948-132-7fb3dbea0618-1b860f48-13...  \n",
       "70124                   107487310_66794062@213.248.91.28  "
      ],
      "text/html": "<div>\n<style scoped>\n    .dataframe tbody tr th:only-of-type {\n        vertical-align: middle;\n    }\n\n    .dataframe tbody tr th {\n        vertical-align: top;\n    }\n\n    .dataframe thead th {\n        text-align: right;\n    }\n</style>\n<table border=\"1\" class=\"dataframe\">\n  <thead>\n    <tr style=\"text-align: right;\">\n      <th></th>\n      <th>frame.number</th>\n      <th>frame.time</th>\n      <th>eth.src</th>\n      <th>eth.dst</th>\n      <th>ip.src</th>\n      <th>ip.dst</th>\n      <th>ip.proto</th>\n      <th>sip.Call-ID</th>\n    </tr>\n  </thead>\n  <tbody>\n    <tr>\n      <th>70116</th>\n      <td>70117</td>\n      <td>Mar 23, 2021 19:31:37.105789000 IST</td>\n      <td>00:0f:b7:12:01:58</td>\n      <td>00:00:5e:00:01:01</td>\n      <td>72.15.134.55</td>\n      <td>72.15.135.5</td>\n      <td>17</td>\n      <td>9d21f59-2cbdb637-132-7fb3dbea3658-1b860f48-13c...</td>\n    </tr>\n    <tr>\n      <th>70117</th>\n      <td>70118</td>\n      <td>Mar 23, 2021 19:31:37.107072000 IST</td>\n      <td>00:0f:b7:12:01:58</td>\n      <td>00:00:5e:00:01:01</td>\n      <td>72.15.134.61</td>\n      <td>213.248.90.116</td>\n      <td>17</td>\n      <td>288773732-3825496893-225503@ffm-sbc-1a.mydomai...</td>\n    </tr>\n    <tr>\n      <th>70118</th>\n      <td>70119</td>\n      <td>Mar 23, 2021 19:31:37.107100000 IST</td>\n      <td>46:2d:59:d1:10:59</td>\n      <td>00:0f:b7:12:01:58</td>\n      <td>163.172.196.99</td>\n      <td>72.15.134.16</td>\n      <td>17</td>\n      <td>1baea806-3cf9c517-131-7fb3dbea90d0-1b860f48-13...</td>\n    </tr>\n    <tr>\n      <th>70119</th>\n      <td>70120</td>\n      <td>Mar 23, 2021 19:31:37.108054000 IST</td>\n      <td>00:0f:b7:12:01:58</td>\n      <td>00:00:5e:00:01:01</td>\n      <td>72.15.134.16</td>\n      <td>163.172.196.99</td>\n      <td>17</td>\n      <td>1baea806-3cf9c517-131-7fb3dbea90d0-1b860f48-13...</td>\n    </tr>\n    <tr>\n      <th>70120</th>\n      <td>70121</td>\n      <td>Mar 23, 2021 19:31:37.107649000 IST</td>\n      <td>46:2d:59:d1:10:59</td>\n      <td>00:0f:b7:12:01:58</td>\n      <td>163.172.196.99</td>\n      <td>72.15.134.16</td>\n      <td>17</td>\n      <td>18630235-57b555e3-132-7fb3dc4a0770-1b860f48-13...</td>\n    </tr>\n    <tr>\n      <th>70121</th>\n      <td>70122</td>\n      <td>Mar 23, 2021 19:31:37.108987000 IST</td>\n      <td>00:0f:b7:12:01:58</td>\n      <td>00:00:5e:00:01:01</td>\n      <td>72.15.134.16</td>\n      <td>185.32.78.126</td>\n      <td>17</td>\n      <td>3d2b288e-5f55eeff-132-7fb3dbea1228-1b860f48-13...</td>\n    </tr>\n    <tr>\n      <th>70122</th>\n      <td>70123</td>\n      <td>Mar 23, 2021 19:31:37.109160000 IST</td>\n      <td>00:0f:b7:12:01:58</td>\n      <td>00:00:5e:00:01:01</td>\n      <td>72.15.134.16</td>\n      <td>72.15.135.5</td>\n      <td>17</td>\n      <td>42b69a5b-49efd948-132-7fb3dbea0618-1b860f48-13...</td>\n    </tr>\n    <tr>\n      <th>70123</th>\n      <td>70124</td>\n      <td>Mar 23, 2021 19:31:37.109516000 IST</td>\n      <td>26:9e:14:b2:9c:32</td>\n      <td>00:0f:b7:12:01:58</td>\n      <td>72.15.135.5</td>\n      <td>72.15.134.16</td>\n      <td>17</td>\n      <td>42b69a5b-49efd948-132-7fb3dbea0618-1b860f48-13...</td>\n    </tr>\n    <tr>\n      <th>70124</th>\n      <td>70125</td>\n      <td>Mar 23, 2021 19:31:37.110219000 IST</td>\n      <td>26:9e:14:b2:9c:32</td>\n      <td>00:0f:b7:12:01:58</td>\n      <td>213.248.91.28</td>\n      <td>72.15.134.61</td>\n      <td>17</td>\n      <td>107487310_66794062@213.248.91.28</td>\n    </tr>\n  </tbody>\n</table>\n</div>"
     },
     "metadata": {},
     "execution_count": 15
    }
   ],
   "source": [
    "combo[-10:-1]"
   ]
  },
  {
   "cell_type": "code",
   "execution_count": 16,
   "metadata": {},
   "outputs": [
    {
     "output_type": "execute_result",
     "data": {
      "text/plain": [
       "Index(['frame.number', 'frame.time', 'eth.src', 'eth.dst', 'ip.src', 'ip.dst',\n",
       "       'ip.proto', 'sip.Call-ID'],\n",
       "      dtype='object')"
      ]
     },
     "metadata": {},
     "execution_count": 16
    }
   ],
   "source": [
    "combo.columns"
   ]
  },
  {
   "cell_type": "code",
   "execution_count": 17,
   "metadata": {},
   "outputs": [],
   "source": [
    "uni=combo['sip.Call-ID'].unique()"
   ]
  },
  {
   "cell_type": "code",
   "execution_count": 18,
   "metadata": {},
   "outputs": [],
   "source": [
    "faulty=uni[-20:]"
   ]
  },
  {
   "cell_type": "code",
   "execution_count": 19,
   "metadata": {},
   "outputs": [],
   "source": [
    "the=[]\n",
    "for i in faulty:\n",
    "    k=combo[combo['sip.Call-ID']==i]\n",
    "    the.append(k)"
   ]
  },
  {
   "cell_type": "code",
   "execution_count": 22,
   "metadata": {},
   "outputs": [],
   "source": [
    "the_all_faulty=pd.concat(the)"
   ]
  },
  {
   "cell_type": "code",
   "execution_count": 23,
   "metadata": {},
   "outputs": [
    {
     "output_type": "execute_result",
     "data": {
      "text/plain": [
       "(50, 8)"
      ]
     },
     "metadata": {},
     "execution_count": 23
    }
   ],
   "source": [
    "the_all_faulty.shape"
   ]
  },
  {
   "cell_type": "code",
   "execution_count": 26,
   "metadata": {},
   "outputs": [],
   "source": [
    "import subprocess\n",
    "import os"
   ]
  },
  {
   "cell_type": "code",
   "execution_count": 34,
   "metadata": {},
   "outputs": [
    {
     "output_type": "stream",
     "name": "stdout",
     "text": [
      "b'70050  26.196036 72.15.134.63 \\xe2\\x86\\x92 72.15.135.5  SIP/SDP 1111 Request: INVITE sip:389211%23966580326137@72.15.135.5 | \\n'\n",
      "b'70052  26.195692  72.15.135.5 \\xe2\\x86\\x92 72.15.134.16 SIP 466 Status: 302 Moved Temporarily | \\n'\n",
      "b'70056  26.196800 72.15.134.63 \\xe2\\x86\\x92 72.15.135.5  SIP 644 Request: ACK sip:389211%23967734934186@72.15.135.5 | \\n'\n",
      "b'70057  26.197066 72.15.134.55 \\xe2\\x86\\x92 72.15.135.5  SIP/SDP 1115 Request: INVITE sip:389441%23966597432380@72.15.135.5 | \\n'\n",
      "b'70059  26.197030  72.15.135.5 \\xe2\\x86\\x92 72.15.134.55 SIP 478 Status: 302 Moved Temporarily | \\n'\n",
      "b'70061  26.197642 72.15.134.48 \\xe2\\x86\\x92 72.15.135.5  SIP/SDP 1022 Request: INVITE sip:389471%23242065430611;tgrp=100001871@72.15.135.5 | \\n'\n",
      "b'70063  26.197359  72.15.135.5 \\xe2\\x86\\x92 72.15.134.55 SIP 487 Status: 302 Moved Temporarily | \\n'\n",
      "b'70064  26.197953  72.15.135.5 \\xe2\\x86\\x92 72.15.134.48 SIP 474 Status: 302 Moved Temporarily | \\n'\n",
      "b'70067  26.198966 72.15.134.16 \\xe2\\x86\\x92 163.172.196.99 SIP/SDP 977 Request: INVITE sip:242064074693@163.172.196.99 | \\n'\n",
      "b'70065  26.198470 72.15.134.55 \\xe2\\x86\\x92 72.15.135.5  SIP 648 Request: ACK sip:389441%23966597432380@72.15.135.5 | \\n'\n",
      "b'70068  26.200270 72.15.134.55 \\xe2\\x86\\x92 72.15.135.5  SIP/SDP 1052 Request: INVITE sip:380231%2322795563831;tgrp=100001592@72.15.135.5 | \\n'\n",
      "b'70071  26.201794 72.15.134.55 \\xe2\\x86\\x92 72.15.135.5  SIP 636 Request: ACK sip:380231%2322795563831;tgrp=100001592@72.15.135.5 | \\n'\n",
      "b'70066  26.198570 72.15.134.48 \\xe2\\x86\\x92 72.15.135.5  SIP 644 Request: ACK sip:389471%23242065430611;tgrp=100001871@72.15.135.5 | \\n'\n",
      "b'70069  26.200602  72.15.135.5 \\xe2\\x86\\x92 72.15.134.55 SIP 463 Status: 302 Moved Temporarily | \\n'\n",
      "b'70072  26.201299 94.142.96.227 \\xe2\\x86\\x92 72.15.134.28 SIP/SDP 1009 Request: INVITE sip:+212615259658@72.15.134.28;user=phone | \\n'\n",
      "b'70070  26.201274 72.15.134.16 \\xe2\\x86\\x92 185.32.78.126 SIP 609 Request: CANCEL sip:99528966591039813;tgrp=100001873@185.32.78.126 | \\n'\n",
      "b'70073  26.202837 72.15.134.28 \\xe2\\x86\\x92 94.142.96.227 SIP 496 Status: 100 Trying | \\n'\n",
      "b'70076  26.204014 72.15.134.55 \\xe2\\x86\\x92 72.15.135.5  SIP/SDP 1109 Request: INVITE sip:389441%23966580326137@72.15.135.5 | \\n'\n",
      "b'70078  26.203239 185.32.78.126 \\xe2\\x86\\x92 72.15.134.16 SIP 379 Status: 100 Trying | \\n'\n",
      "b'70080  26.204048  72.15.135.5 \\xe2\\x86\\x92 72.15.134.16 SIP 466 Status: 302 Moved Temporarily | \\n'\n",
      "b'70081  26.204335 72.15.134.28 \\xe2\\x86\\x92 72.15.135.5  SIP/SDP 1052 Request: INVITE sip:+212615259658@72.15.135.5;user=phone | \\n'\n",
      "b'70086  26.204682  72.15.135.5 \\xe2\\x86\\x92 72.15.134.28 SIP 461 Status: 302 Moved Temporarily | \\n'\n",
      "b'70087  26.205426 72.15.134.55 \\xe2\\x86\\x92 72.15.135.5  SIP 644 Request: ACK sip:389441%23966580326137@72.15.135.5 | \\n'\n",
      "b'70089  26.205494 72.15.134.28 \\xe2\\x86\\x92 72.15.135.5  SIP 620 Request: ACK sip:+212615259658@72.15.135.5;user=phone | \\n'\n",
      "b'70090  26.205653 72.15.134.40 \\xe2\\x86\\x92 72.15.135.5  SIP/SDP 1009 Request: INVITE sip:389451%2393769621658@72.15.135.5 | \\n'\n",
      "b'70091  26.205695 72.15.134.48 \\xe2\\x86\\x92 72.15.135.5  SIP 665 Request: ACK sip:389471%23967711341849;tgrp=100001871@72.15.135.5 | \\n'\n",
      "b'70094  26.206032  72.15.135.5 \\xe2\\x86\\x92 72.15.134.40 SIP 475 Status: 302 Moved Temporarily | \\n'\n",
      "b'70093  26.205809  72.15.135.5 \\xe2\\x86\\x92 72.15.134.40 SIP 487 Status: 302 Moved Temporarily | \\n'\n",
      "b'70095  26.206493 72.15.134.40 \\xe2\\x86\\x92 72.15.135.5  SIP 634 Request: ACK sip:389451%2393769621658@72.15.135.5 | \\n'\n",
      "b'70096  26.206565 72.15.134.16 \\xe2\\x86\\x92 163.172.196.99 SIP/SDP 976 Request: INVITE sip:242065430611@163.172.196.99 | \\n'\n",
      "b'70099  26.208204  72.15.135.5 \\xe2\\x86\\x92 72.15.134.63 SIP 455 Status: 302 Moved Temporarily | \\n'\n",
      "b'70101  26.209894 72.15.134.73 \\xe2\\x86\\x92 72.15.135.5  SIP/SDP 1064 Request: INVITE sip:391115%23212615259658;tgrp=100002025@72.15.135.5 | \\n'\n",
      "b'70102  26.210690 72.15.134.63 \\xe2\\x86\\x92 163.172.196.99 SIP/SDP 1022 Request: INVITE sip:22795563831@163.172.196.99 | \\n'\n",
      "b'70100  26.209515 72.15.134.63 \\xe2\\x86\\x92 72.15.135.5  SIP 622 Request: ACK sip:380241%2322795563831@72.15.135.5 | \\n'\n",
      "b'70104  26.210317  72.15.135.5 \\xe2\\x86\\x92 72.15.134.73 SIP 461 Status: 302 Moved Temporarily | \\n'\n",
      "b'70106  26.211405 72.15.134.73 \\xe2\\x86\\x92 72.15.135.5  SIP 632 Request: ACK sip:391115%23212615259658;tgrp=100002025@72.15.135.5 | \\n'\n",
      "b'70107  26.211228  72.15.135.5 \\xe2\\x86\\x92 72.15.134.40 SIP 486 Status: 302 Moved Temporarily | \\n'\n",
      "b'70109  26.212438 72.15.134.40 \\xe2\\x86\\x92 72.15.135.5  SIP/SDP 1109 Request: INVITE sip:389451%23967734934186@72.15.135.5 | \\n'\n",
      "b'70110  26.212468 72.15.134.39 \\xe2\\x86\\x92 72.15.135.5  SIP 662 Request: ACK sip:389461%23966597432380;tgrp=100001870@72.15.135.5 | \\n'\n",
      "b'70111  26.212509 72.15.134.40 \\xe2\\x86\\x92 72.15.135.5  SIP 647 Request: ACK sip:389451%23966580326137@72.15.135.5 | \\n'\n",
      "b'70112  26.212777  72.15.135.5 \\xe2\\x86\\x92 72.15.134.40 SIP 484 Status: 302 Moved Temporarily | \\n'\n",
      "b'70114  26.213425 72.15.134.40 \\xe2\\x86\\x92 72.15.135.5  SIP 644 Request: ACK sip:389451%23967734934186@72.15.135.5 | \\n'\n",
      "b'70113  26.213243 72.15.134.16 \\xe2\\x86\\x92 72.15.135.5  SIP/SDP 1103 Request: INVITE sip:389481%23967711341849@72.15.135.5 | \\n'\n",
      "b'70116  26.213744 185.32.78.126 \\xe2\\x86\\x92 72.15.134.16 SIP 487 Status: 180 Ringing | \\n'\n",
      "b'70117  26.214379 72.15.134.16 \\xe2\\x86\\x92 72.15.135.5  SIP 650 Request: ACK sip:389481%23967711341849@72.15.135.5 | \\n'\n",
      "b'70122  26.217450 72.15.134.48 \\xe2\\x86\\x92 72.15.135.5  SIP/SDP 1129 Request: INVITE sip:389471%23966597432380;tgrp=100001871@72.15.135.5 | \\n'\n",
      "b'70123  26.217964 72.15.134.39 \\xe2\\x86\\x92 72.15.135.5  SIP/SDP 1127 Request: INVITE sip:389461%23966580326137;tgrp=100001870@72.15.135.5 | \\n'\n",
      "b'70124  26.218644 72.15.134.16 \\xe2\\x86\\x92 185.32.78.126 SIP/SDP 1100 Request: INVITE sip:99528967711341849@185.32.78.126 | \\n'\n",
      "b'70126  26.219845 72.15.134.39 \\xe2\\x86\\x92 72.15.135.5  SIP/SDP 1125 Request: INVITE sip:389461%23967734934186;tgrp=100001870@72.15.135.5 | \\n'\n",
      "b'70125  26.219276 72.15.134.61 \\xe2\\x86\\x92 213.248.91.28 SIP 511 Status: 180 Ringing | \\n'\n"
     ]
    }
   ],
   "source": [
    "os.system('/home/swaraj/Downloads/pcap')"
   ]
  },
  {
   "cell_type": "code",
   "execution_count": 52,
   "metadata": {},
   "outputs": [],
   "source": [
    "frame_no=[]\n",
    "for i in the_all_faulty['frame.number']:\n",
    "    i=str(i)\n",
    "    frame_no.append(i)\n"
   ]
  },
  {
   "cell_type": "code",
   "execution_count": null,
   "metadata": {},
   "outputs": [],
   "source": [
    "k=\" \".join(frame_no)\n",
    "k=\" \"+k\n",
    "k=\"{\"+k+\"}\"\n",
    "subprocess.check_output('tshark -r TRACES_20210323140137.pcap -Y \"frame.number in {}\" -w new.pcap'.format(k),shell=True)"
   ]
  },
  {
   "cell_type": "code",
   "execution_count": 59,
   "metadata": {},
   "outputs": [],
   "source": []
  },
  {
   "cell_type": "code",
   "execution_count": 82,
   "metadata": {},
   "outputs": [],
   "source": []
  },
  {
   "cell_type": "code",
   "execution_count": 83,
   "metadata": {},
   "outputs": [
    {
     "output_type": "execute_result",
     "data": {
      "text/plain": [
       "b''"
      ]
     },
     "metadata": {},
     "execution_count": 83
    }
   ],
   "source": []
  },
  {
   "cell_type": "code",
   "execution_count": null,
   "metadata": {},
   "outputs": [],
   "source": []
  }
 ]
}