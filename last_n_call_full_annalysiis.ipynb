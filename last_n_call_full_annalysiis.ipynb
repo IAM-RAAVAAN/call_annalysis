{
 "metadata": {
  "language_info": {
   "codemirror_mode": {
    "name": "ipython",
    "version": 3
   },
   "file_extension": ".py",
   "mimetype": "text/x-python",
   "name": "python",
   "nbconvert_exporter": "python",
   "pygments_lexer": "ipython3",
   "version": "3.9.2"
  },
  "orig_nbformat": 2,
  "kernelspec": {
   "name": "python392jvsc74a57bd0588b1dd76ca082666fe2f995fff1e9efb2de790f2352d1450e516a9edc988200",
   "display_name": "Python 3.9.2 64-bit"
  },
  "metadata": {
   "interpreter": {
    "hash": "588b1dd76ca082666fe2f995fff1e9efb2de790f2352d1450e516a9edc988200"
   }
  }
 },
 "nbformat": 4,
 "nbformat_minor": 2,
 "cells": [
  {
   "cell_type": "code",
   "execution_count": 1,
   "metadata": {},
   "outputs": [],
   "source": [
    "import re \n",
    "import pandas as pd \n",
    "import numpy as np \n",
    "import csv \n",
    "import argparse\n",
    "import subprocess\n",
    "import os"
   ]
  },
  {
   "cell_type": "code",
   "execution_count": null,
   "metadata": {},
   "outputs": [],
   "source": [
    "df=pd.read_csv(r'Z:\\home\\karn\\Downloads\\work_dev\\file\\call_annalysis\\dump\\TRACES_20210224150613')"
   ]
  },
  {
   "cell_type": "code",
   "execution_count": null,
   "metadata": {},
   "outputs": [],
   "source": [
    "\n",
    "def find_alice(i):\n",
    "        alice=df[df['sip.to.tag'].str.match(pat = i+'\\S*', na=False)]\n",
    "        j=alice['sip.Call-ID'].unique()\n",
    "        for i in j:\n",
    "            pass\n",
    "        full_alice=df[df['sip.Call-ID']==i]\n",
    "        return full_alice\n",
    "        #return df[df['sip.to.tag'].str.match(pat = i+'\\S*', na=False)]\n",
    "def find_bob(i):\n",
    "        return df[df['sip.from.tag'].str.match(pat = i+'\\S*', na=False)]\n",
    "\n",
    "def sbc_call(i):\n",
    "        i=str(i)\n",
    "        l=[]\n",
    "        matched = re.match(\"s\\d\\d\\d\\d\\dd\", i)\n",
    "        l.append(bool(matched))\n",
    "        tag = re.compile(r\"s\\d\\d\\d\\d\\dd\")\n",
    "        try:\n",
    "            mo = tag.search(i)\n",
    "            l.append(mo.group())\n",
    "        except:\n",
    "            pass\n",
    "        return l\n",
    "\n",
    "\n",
    "def who_called(i):\n",
    "        k=[]\n",
    "\n",
    "        #fing=ding whether the alice called \n",
    "        for i in call_id['sip.to.tag']:\n",
    "            k.append(i)\n",
    "\n",
    "        l=sbc_call(i)#sbc will return list l[0]=is true or false  and his snnnnnd number \n",
    "        if l[0]:\n",
    "            l[0]='alice'\n",
    "            return l\n",
    "        #finding whether bob called \n",
    "        for i in call_id['sip.from.tag']:\n",
    "            k.append(i)\n",
    "        l=sbc_call(i)\n",
    "        if l[0]:\n",
    "            l[0]='bob'\n",
    "            return l\n",
    "\n",
    "\n",
    "\n",
    "#number_of_calls=int(input(\"enter the number of calls you want \"))\n",
    "#number_of_calls=-10\n",
    "#combo[-10:-1]\n",
    "if args.num:\n",
    "    uni=combo['sip.Call-ID'].unique()\n",
    "    number_of_calls=-int(args.num)\n",
    "    faulty=uni[number_of_calls:]\n",
    "    print('last calls is given  ')\n",
    "    print(faulty)\n",
    "\n",
    "    the=[]\n",
    "    for i in faulty:\n",
    "        k=combo[combo['sip.Call-ID']==i]\n",
    "        the.append(k)\n",
    "\n",
    "    #print(the)\n",
    "\n",
    "\n",
    "    the_all_faulty=pd.concat(the)\n",
    "    print('frame of last calls has been made')\n",
    "    print(the_all_faulty.shape)\n",
    "    print(the_all_faulty)\n",
    "\n",
    "\n",
    "    print('other modules has been imported')\n",
    "    frame_no=[]\n",
    "    print('makeing the list of frame number')\n",
    "\n",
    "\n",
    "    for i in the_all_faulty['frame.number']:\n",
    "        i=str(i)\n",
    "        frame_no.append(i)\n",
    "    print('list of frame number has been made')\n",
    "\n",
    "\n",
    "    frame_list=\" \".join(frame_no)\n",
    "    frame_list=\" \"+frame_list\n",
    "    frame_list=\"{\"+frame_list+\"}\"\n",
    "    print('we are firing the tshark might take some time')\n",
    "    subprocess.check_output('tshark -r TRACES_20210224150613.pcap -Y \"frame.number in {}\" -w new.pcap'.format(frame_list),shell=True)\n"
   ]
  }
 ]
}