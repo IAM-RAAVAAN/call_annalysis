{
 "metadata": {
  "language_info": {
   "codemirror_mode": {
    "name": "ipython",
    "version": 3
   },
   "file_extension": ".py",
   "mimetype": "text/x-python",
   "name": "python",
   "nbconvert_exporter": "python",
   "pygments_lexer": "ipython3",
   "version": "3.9.2"
  },
  "orig_nbformat": 2,
  "kernelspec": {
   "name": "python392jvsc74a57bd0588b1dd76ca082666fe2f995fff1e9efb2de790f2352d1450e516a9edc988200",
   "display_name": "Python 3.9.2 64-bit"
  },
  "metadata": {
   "interpreter": {
    "hash": "588b1dd76ca082666fe2f995fff1e9efb2de790f2352d1450e516a9edc988200"
   }
  }
 },
 "nbformat": 4,
 "nbformat_minor": 2,
 "cells": [
  {
   "cell_type": "code",
   "execution_count": null,
   "metadata": {},
   "outputs": [],
   "source": [
    "file1='test1.csv'\n",
    "file2='test2.csv'"
   ]
  },
  {
   "cell_type": "code",
   "execution_count": null,
   "metadata": {},
   "outputs": [],
   "source": [
    "import pandas as pd \n",
    "import numpy as np \n",
    "import csv \n",
    "import re "
   ]
  },
  {
   "cell_type": "code",
   "execution_count": null,
   "metadata": {},
   "outputs": [],
   "source": [
    "df=pd.read_csv(r'/home/karn/Downloads/work_dev/file/call_annalysis/dump/TRACES_20210323140137.csv')"
   ]
  },
  {
   "cell_type": "code",
   "execution_count": null,
   "metadata": {},
   "outputs": [],
   "source": [
    "df"
   ]
  },
  {
   "cell_type": "code",
   "execution_count": null,
   "metadata": {},
   "outputs": [],
   "source": [
    "combo=df"
   ]
  },
  {
   "cell_type": "code",
   "execution_count": null,
   "metadata": {},
   "outputs": [],
   "source": [
    "combo[-50:-1]"
   ]
  },
  {
   "cell_type": "code",
   "execution_count": null,
   "metadata": {},
   "outputs": [],
   "source": [
    "combo.columns"
   ]
  },
  {
   "cell_type": "code",
   "execution_count": null,
   "metadata": {},
   "outputs": [],
   "source": []
  },
  {
   "cell_type": "code",
   "execution_count": null,
   "metadata": {},
   "outputs": [],
   "source": []
  },
  {
   "cell_type": "code",
   "execution_count": null,
   "metadata": {
    "tags": [
     "outputPrepend"
    ]
   },
   "outputs": [],
   "source": [
    "uni=combo['sip.Call-ID'].unique()\n",
    "faulty=uni[-1:]\n",
    "the=[]\n",
    "li=[]\n",
    "for i in faulty:\n",
    "    k=combo[combo['sip.Call-ID']==i]\n",
    "    call_id=k\n",
    "    tag=who_called(i)\n",
    "    print(tag)\n",
    "    try:\n",
    "            if tag[0] == 'bob':\n",
    "                #find_alice and find_bob returns dataframe \n",
    "                df=find_alice(tag[1])\n",
    "                print(df)\n",
    "                \n",
    "\n",
    "            else :\n",
    "                print(tag)\n",
    "                df=find_bob(tag[1])\n",
    "                print(df)\n",
    "                \n",
    "    except:\n",
    "           pass\n",
    "    li.append(df)\n",
    "    the.append(k)"
   ]
  },
  {
   "cell_type": "code",
   "execution_count": null,
   "metadata": {},
   "outputs": [],
   "source": [
    "li\n"
   ]
  },
  {
   "cell_type": "code",
   "execution_count": null,
   "metadata": {},
   "outputs": [],
   "source": [
    "call_id=df\n",
    "li=[]\n"
   ]
  },
  {
   "cell_type": "code",
   "execution_count": null,
   "metadata": {},
   "outputs": [],
   "source": [
    "tag"
   ]
  },
  {
   "cell_type": "code",
   "execution_count": null,
   "metadata": {},
   "outputs": [],
   "source": [
    "the_all_faulty=pd.concat(the)"
   ]
  },
  {
   "cell_type": "code",
   "execution_count": null,
   "metadata": {},
   "outputs": [],
   "source": [
    "def find_alice(i):\n",
    "    print('in finding alice')\n",
    "    j=df[df['sip.to.tag'].str.match(pat = i+'\\S*', na=False)]\n",
    "    print()\n",
    "    print(j)\n",
    "    return j\n",
    "def find_bob(i):\n",
    "    print('in finding alice')\n",
    "    return df[df['sip.from.tag'].str.match(pat = i+'\\S*', na=False)]\n",
    "\n",
    "\n",
    "def sbc_call(i):\n",
    "    i=str(i)\n",
    "    l=[]\n",
    "    matched = re.match(\"s\\d\\d\\d\\d\\dd\", i)\n",
    "    l.append(bool(matched))\n",
    "    tag = re.compile(r\"s\\d\\d\\d\\d\\dd\")\n",
    "    try:\n",
    "        mo = tag.search(i)\n",
    "        l.append(mo.group())\n",
    "    except:\n",
    "        pass\n",
    "    return l\n",
    "\n",
    "\n",
    "def who_called(i):\n",
    "    k=[]\n",
    "\n",
    "    #fing=ding whether the alice called \n",
    "    for i in call_id['sip.to.tag']:\n",
    "        k.append(i)\n",
    "\n",
    "    l=sbc_call(i)#sbc will return list l[0]=is true or false  and his snnnnnd number \n",
    "    if l[0]:\n",
    "        l[0]='alice'\n",
    "        return l\n",
    "    #finding whether bob called \n",
    "    for i in call_id['sip.from.tag']:\n",
    "        k.append(i)\n",
    "    l=sbc_call(i)\n",
    "    if l[0]:\n",
    "        l[0]='bob'\n",
    "        return l"
   ]
  },
  {
   "cell_type": "code",
   "execution_count": null,
   "metadata": {},
   "outputs": [],
   "source": [
    "import subprocess\n",
    "import os"
   ]
  },
  {
   "cell_type": "code",
   "execution_count": null,
   "metadata": {},
   "outputs": [],
   "source": [
    "os.system('/home/swaraj/Downloads/pcap')"
   ]
  },
  {
   "cell_type": "code",
   "execution_count": null,
   "metadata": {},
   "outputs": [],
   "source": [
    "frame_no=[]\n",
    "for i in the_all_faulty['frame.number']:\n",
    "    i=str(i)\n",
    "    frame_no.append(i)\n"
   ]
  },
  {
   "cell_type": "code",
   "execution_count": null,
   "metadata": {},
   "outputs": [],
   "source": [
    "k=\" \".join(frame_no)\n",
    "k=\" \"+k\n",
    "k=\"{\"+k+\"}\"\n",
    "print('we are firing the tshark might take some time')\n",
    "subprocess.check_output('tshark -r TRACES_20210323140137.pcap -Y \"frame.number in {}\" -w new.pcap'.format(k),shell=True)\n"
   ]
  },
  {
   "cell_type": "code",
   "execution_count": null,
   "metadata": {},
   "outputs": [],
   "source": []
  },
  {
   "cell_type": "code",
   "execution_count": null,
   "metadata": {},
   "outputs": [],
   "source": []
  },
  {
   "cell_type": "code",
   "execution_count": null,
   "metadata": {},
   "outputs": [],
   "source": []
  },
  {
   "cell_type": "code",
   "execution_count": null,
   "metadata": {},
   "outputs": [],
   "source": []
  }
 ]
}